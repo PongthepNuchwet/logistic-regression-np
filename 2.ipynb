{
 "cells": [
  {
   "cell_type": "markdown",
   "metadata": {},
   "source": [
    "# Logistic Regression\n",
    "\n",
    "2.ใช้โปรแกรมที่ได้จากข้อ 1 แก้ปัญหาจาก data ที่ generate ขึ้นมา โดยต้องอธิบายด้วยว่า data แต่ละชุด generate ขึ้นมาได้อย่างไร ตัวอย่างข้อมูล"
   ]
  },
  {
   "cell_type": "code",
   "execution_count": 103,
   "metadata": {},
   "outputs": [],
   "source": [
    "from sklearn.datasets import make_moons, make_circles, make_classification\n",
    "import numpy as np\n",
    "import matplotlib.pyplot as plt"
   ]
  },
  {
   "cell_type": "markdown",
   "metadata": {},
   "source": [
    "Sigmoid function\n",
    "$$ g(z) = \\frac{1}{1 + e^{-z}}    $$"
   ]
  },
  {
   "cell_type": "code",
   "execution_count": 104,
   "metadata": {},
   "outputs": [
    {
     "data": {
      "text/plain": [
       "0.5"
      ]
     },
     "execution_count": 104,
     "metadata": {},
     "output_type": "execute_result"
    }
   ],
   "source": [
    "def sigmoid(z):\n",
    "    return 1 / (1 + np.exp(-z))\n",
    "\n",
    "\n",
    "# test function\n",
    "sigmoid(0)"
   ]
  },
  {
   "cell_type": "markdown",
   "metadata": {},
   "source": [
    "สมมติฐาน (Hypothesis)\n",
    "$$ h_θ(x) = g(θ_0x_0 + θ_1x_1 + θ_2x_2) $$"
   ]
  },
  {
   "cell_type": "code",
   "execution_count": 105,
   "metadata": {},
   "outputs": [
    {
     "data": {
      "text/plain": [
       "array([0.5, 0.5, 0.5, 0.5])"
      ]
     },
     "execution_count": 105,
     "metadata": {},
     "output_type": "execute_result"
    }
   ],
   "source": [
    "def hypothesis(w, X):\n",
    "    H = sigmoid(np.dot(X, w))\n",
    "    return H\n",
    "\n",
    "\n",
    "# test function\n",
    "hypothesis(np.array([0, 0, 0]), np.array(\n",
    "    [[1, 0, 0], [1, 0, 1], [1, 1, 0], [1, 1, 1]]))"
   ]
  },
  {
   "cell_type": "markdown",
   "metadata": {},
   "source": [
    "Cost function\n",
    "$$ J(θ) = \\frac{1}{m} [−y^Tlog(h_θ(x)) − (1 − y)^Tlog(1 − h_θ(x))] $$"
   ]
  },
  {
   "cell_type": "code",
   "execution_count": 106,
   "metadata": {},
   "outputs": [
    {
     "data": {
      "text/plain": [
       "0.6931471805599453"
      ]
     },
     "execution_count": 106,
     "metadata": {},
     "output_type": "execute_result"
    }
   ],
   "source": [
    "def Cost(H, Y):\n",
    "    cost = -np.sum(Y*np.log(H) + (1-Y)*np.log(1-H))/len(Y)\n",
    "    return cost\n",
    "\n",
    "\n",
    "# test function\n",
    "Cost(np.array([0.5, 0.5, 0.5, 0.5]), np.array([0, 0, 0, 1]))"
   ]
  },
  {
   "cell_type": "markdown",
   "metadata": {},
   "source": [
    "Gradient\n",
    "$$ \\frac{∂}{∂θ_j}J(θ) = \\frac{1}{m}X^T(h_θ(x) − y) $$\n",
    "\n",
    "Gradient descent\n",
    "$$ θ_j ≔ θ_j-\\frac{a}{m}X^T(h_θ(x) − y) $$"
   ]
  },
  {
   "cell_type": "code",
   "execution_count": 107,
   "metadata": {},
   "outputs": [
    {
     "name": "stdout",
     "output_type": "stream",
     "text": [
      "Epoch 1/1:  CE: 0.6931471806\n"
     ]
    },
    {
     "data": {
      "text/plain": [
       "(array([-0.25,  0.  ,  0.  ]),\n",
       " [0.6931471805599453],\n",
       " array([[-0.25,  0.  ,  0.  ]]))"
      ]
     },
     "execution_count": 107,
     "metadata": {},
     "output_type": "execute_result"
    }
   ],
   "source": [
    "def gradientDescent(x, y, theta, learning_rate, iterations,show):\n",
    "    cost_history = []\n",
    "    theta_n = np.copy(theta)\n",
    "    theta_history = []\n",
    "    for epoch in range(iterations):\n",
    "        H = hypothesis(theta_n, x)\n",
    "        cost = Cost(H, y)\n",
    "        gradient = np.dot(x.T, (H-y))/len(y)\n",
    "        theta_n -= learning_rate * gradient\n",
    "        theta_history.append(list(theta_n))\n",
    "        cost_history.append(cost)\n",
    "        if show :\n",
    "            print(f\"Epoch {epoch+1}/{iterations}:  CE: {cost:.10f}\")\n",
    "\n",
    "    return theta_n, cost_history, np.array(theta_history)\n",
    "\n",
    "# test function\n",
    "gradientDescent(\n",
    "    np.array([[1, 0, 0], [1, 0, 1], [1, 1, 0], [1, 1, 1]]),\n",
    "    np.array([0, 0, 0, 1]),\n",
    "    np.array([0, 0, 0], dtype='float64'), 1, 1,True)"
   ]
  },
  {
   "cell_type": "markdown",
   "metadata": {},
   "source": [
    "Generate data"
   ]
  },
  {
   "cell_type": "code",
   "execution_count": 108,
   "metadata": {},
   "outputs": [],
   "source": [
    "X, y = make_classification(n_samples=100,n_features=2, n_redundant=0,\n",
    "                           n_informative=2, random_state=1, n_clusters_per_class=1)\n",
    "rng = np.random.RandomState(2)\n",
    "X += 2 * rng.uniform(size=X.shape)\n",
    "\n",
    "# X,y = make_moons(noise=0.1, random_state=0)\n",
    "\n",
    "# X,y = make_circles(noise=0.2, factor=0.5, random_state=1)\n"
   ]
  },
  {
   "cell_type": "code",
   "execution_count": 109,
   "metadata": {},
   "outputs": [
    {
     "name": "stdout",
     "output_type": "stream",
     "text": [
      "(50, 2) (50, 2)\n"
     ]
    }
   ],
   "source": [
    "x_class_A = []\n",
    "x_class_B = []\n",
    "for xx , yy in zip(X,y):\n",
    "    if yy == 0 :\n",
    "        x_class_A.append(xx)\n",
    "    else :\n",
    "        x_class_B.append(xx)\n",
    "x_class_A = np.array(x_class_A)\n",
    "x_class_B = np.array(x_class_B)\n",
    "print(x_class_A.shape,x_class_B.shape)"
   ]
  },
  {
   "cell_type": "code",
   "execution_count": 110,
   "metadata": {},
   "outputs": [
    {
     "data": {
      "image/png": "[encoded data removed]",
      "text/plain": [
       "<Figure size 600x600 with 1 Axes>"
      ]
     },
     "metadata": {},
     "output_type": "display_data"
    }
   ],
   "source": [
    "plt.figure(figsize=(6, 6))\n",
    "plt.scatter(x_class_A[:,0],x_class_A[:,1], color='red', label='0')\n",
    "plt.scatter(x_class_B[:,0], x_class_B[:,1], color='b', label='1')\n",
    "# plt.plot(x_boundary,y_boundary, 'g')\n",
    "plt.xlabel('X')\n",
    "plt.ylabel('Y')\n",
    "plt.title('Display data')\n",
    "plt.legend()\n",
    "plt.show()"
   ]
  },
  {
   "cell_type": "code",
   "execution_count": 111,
   "metadata": {},
   "outputs": [
    {
     "name": "stdout",
     "output_type": "stream",
     "text": [
      "(100, 3)\n",
      "Epoch 1/200:  CE: 0.6931471806\n",
      "Epoch 2/200:  CE: 0.5036812094\n",
      "Epoch 3/200:  CE: 0.4107124296\n",
      "Epoch 4/200:  CE: 0.3582484012\n",
      "Epoch 5/200:  CE: 0.3236319441\n",
      "Epoch 6/200:  CE: 0.2988701156\n",
      "Epoch 7/200:  CE: 0.2801717277\n",
      "Epoch 8/200:  CE: 0.2654822831\n",
      "Epoch 9/200:  CE: 0.2535898192\n",
      "Epoch 10/200:  CE: 0.2437322478\n",
      "Epoch 11/200:  CE: 0.2354054088\n",
      "Epoch 12/200:  CE: 0.2282617821\n",
      "Epoch 13/200:  CE: 0.2220535729\n",
      "Epoch 14/200:  CE: 0.2165990216\n",
      "Epoch 15/200:  CE: 0.2117615669\n",
      "Epoch 16/200:  CE: 0.2074364721\n",
      "Epoch 17/200:  CE: 0.2035419615\n",
      "Epoch 18/200:  CE: 0.2000131822\n",
      "Epoch 19/200:  CE: 0.1967979885\n",
      "Epoch 20/200:  CE: 0.1938539359\n",
      "Epoch 21/200:  CE: 0.1911460963\n",
      "Epoch 22/200:  CE: 0.1886454426\n",
      "Epoch 23/200:  CE: 0.1863276361\n",
      "Epoch 24/200:  CE: 0.1841721039\n",
      "Epoch 25/200:  CE: 0.1821613274\n",
      "Epoch 26/200:  CE: 0.1802802877\n",
      "Epoch 27/200:  CE: 0.1785160289\n",
      "Epoch 28/200:  CE: 0.1768573102\n",
      "Epoch 29/200:  CE: 0.1752943275\n",
      "Epoch 30/200:  CE: 0.1738184872\n",
      "Epoch 31/200:  CE: 0.1724222225\n",
      "Epoch 32/200:  CE: 0.1710988420\n",
      "Epoch 33/200:  CE: 0.1698424049\n",
      "Epoch 34/200:  CE: 0.1686476170\n",
      "Epoch 35/200:  CE: 0.1675097435\n",
      "Epoch 36/200:  CE: 0.1664245365\n",
      "Epoch 37/200:  CE: 0.1653881722\n",
      "Epoch 38/200:  CE: 0.1643971992\n",
      "Epoch 39/200:  CE: 0.1634484930\n",
      "Epoch 40/200:  CE: 0.1625392181\n",
      "Epoch 41/200:  CE: 0.1616667943\n",
      "Epoch 42/200:  CE: 0.1608288685\n",
      "Epoch 43/200:  CE: 0.1600232897\n",
      "Epoch 44/200:  CE: 0.1592480876\n",
      "Epoch 45/200:  CE: 0.1585014534\n",
      "Epoch 46/200:  CE: 0.1577817237\n",
      "Epoch 47/200:  CE: 0.1570873658\n",
      "Epoch 48/200:  CE: 0.1564169647\n",
      "Epoch 49/200:  CE: 0.1557692121\n",
      "Epoch 50/200:  CE: 0.1551428963\n",
      "Epoch 51/200:  CE: 0.1545368933\n",
      "Epoch 52/200:  CE: 0.1539501587\n",
      "Epoch 53/200:  CE: 0.1533817211\n",
      "Epoch 54/200:  CE: 0.1528306752\n",
      "Epoch 55/200:  CE: 0.1522961765\n",
      "Epoch 56/200:  CE: 0.1517774363\n",
      "Epoch 57/200:  CE: 0.1512737166\n",
      "Epoch 58/200:  CE: 0.1507843266\n",
      "Epoch 59/200:  CE: 0.1503086186\n",
      "Epoch 60/200:  CE: 0.1498459846\n",
      "Epoch 61/200:  CE: 0.1493958536\n",
      "Epoch 62/200:  CE: 0.1489576881\n",
      "Epoch 63/200:  CE: 0.1485309826\n",
      "Epoch 64/200:  CE: 0.1481152603\n",
      "Epoch 65/200:  CE: 0.1477100715\n",
      "Epoch 66/200:  CE: 0.1473149918\n",
      "Epoch 67/200:  CE: 0.1469296200\n",
      "Epoch 68/200:  CE: 0.1465535765\n",
      "Epoch 69/200:  CE: 0.1461865022\n",
      "Epoch 70/200:  CE: 0.1458280568\n",
      "Epoch 71/200:  CE: 0.1454779176\n",
      "Epoch 72/200:  CE: 0.1451357784\n",
      "Epoch 73/200:  CE: 0.1448013485\n",
      "Epoch 74/200:  CE: 0.1444743517\n",
      "Epoch 75/200:  CE: 0.1441545253\n",
      "Epoch 76/200:  CE: 0.1438416193\n",
      "Epoch 77/200:  CE: 0.1435353955\n",
      "Epoch 78/200:  CE: 0.1432356273\n",
      "Epoch 79/200:  CE: 0.1429420983\n",
      "Epoch 80/200:  CE: 0.1426546023\n",
      "Epoch 81/200:  CE: 0.1423729422\n",
      "Epoch 82/200:  CE: 0.1420969300\n",
      "Epoch 83/200:  CE: 0.1418263858\n",
      "Epoch 84/200:  CE: 0.1415611378\n",
      "Epoch 85/200:  CE: 0.1413010215\n",
      "Epoch 86/200:  CE: 0.1410458793\n",
      "Epoch 87/200:  CE: 0.1407955604\n",
      "Epoch 88/200:  CE: 0.1405499204\n",
      "Epoch 89/200:  CE: 0.1403088207\n",
      "Epoch 90/200:  CE: 0.1400721282\n",
      "Epoch 91/200:  CE: 0.1398397156\n",
      "Epoch 92/200:  CE: 0.1396114603\n",
      "Epoch 93/200:  CE: 0.1393872447\n",
      "Epoch 94/200:  CE: 0.1391669558\n",
      "Epoch 95/200:  CE: 0.1389504848\n",
      "Epoch 96/200:  CE: 0.1387377272\n",
      "Epoch 97/200:  CE: 0.1385285824\n",
      "Epoch 98/200:  CE: 0.1383229537\n",
      "Epoch 99/200:  CE: 0.1381207478\n",
      "Epoch 100/200:  CE: 0.1379218749\n",
      "Epoch 101/200:  CE: 0.1377262483\n",
      "Epoch 102/200:  CE: 0.1375337847\n",
      "Epoch 103/200:  CE: 0.1373444036\n",
      "Epoch 104/200:  CE: 0.1371580272\n",
      "Epoch 105/200:  CE: 0.1369745807\n",
      "Epoch 106/200:  CE: 0.1367939916\n",
      "Epoch 107/200:  CE: 0.1366161901\n",
      "Epoch 108/200:  CE: 0.1364411087\n",
      "Epoch 109/200:  CE: 0.1362686820\n",
      "Epoch 110/200:  CE: 0.1360988471\n",
      "Epoch 111/200:  CE: 0.1359315428\n",
      "Epoch 112/200:  CE: 0.1357667101\n",
      "Epoch 113/200:  CE: 0.1356042919\n",
      "Epoch 114/200:  CE: 0.1354442330\n",
      "Epoch 115/200:  CE: 0.1352864797\n",
      "Epoch 116/200:  CE: 0.1351309803\n",
      "Epoch 117/200:  CE: 0.1349776845\n",
      "Epoch 118/200:  CE: 0.1348265436\n",
      "Epoch 119/200:  CE: 0.1346775103\n",
      "Epoch 120/200:  CE: 0.1345305391\n",
      "Epoch 121/200:  CE: 0.1343855854\n",
      "Epoch 122/200:  CE: 0.1342426062\n",
      "Epoch 123/200:  CE: 0.1341015597\n",
      "Epoch 124/200:  CE: 0.1339624054\n",
      "Epoch 125/200:  CE: 0.1338251039\n",
      "Epoch 126/200:  CE: 0.1336896170\n",
      "Epoch 127/200:  CE: 0.1335559074\n",
      "Epoch 128/200:  CE: 0.1334239392\n",
      "Epoch 129/200:  CE: 0.1332936773\n",
      "Epoch 130/200:  CE: 0.1331650875\n",
      "Epoch 131/200:  CE: 0.1330381367\n",
      "Epoch 132/200:  CE: 0.1329127927\n",
      "Epoch 133/200:  CE: 0.1327890242\n",
      "Epoch 134/200:  CE: 0.1326668006\n",
      "Epoch 135/200:  CE: 0.1325460922\n",
      "Epoch 136/200:  CE: 0.1324268702\n",
      "Epoch 137/200:  CE: 0.1323091064\n",
      "Epoch 138/200:  CE: 0.1321927734\n",
      "Epoch 139/200:  CE: 0.1320778446\n",
      "Epoch 140/200:  CE: 0.1319642940\n",
      "Epoch 141/200:  CE: 0.1318520963\n",
      "Epoch 142/200:  CE: 0.1317412267\n",
      "Epoch 143/200:  CE: 0.1316316613\n",
      "Epoch 144/200:  CE: 0.1315233767\n",
      "Epoch 145/200:  CE: 0.1314163498\n",
      "Epoch 146/200:  CE: 0.1313105586\n",
      "Epoch 147/200:  CE: 0.1312059811\n",
      "Epoch 148/200:  CE: 0.1311025963\n",
      "Epoch 149/200:  CE: 0.1310003834\n",
      "Epoch 150/200:  CE: 0.1308993222\n",
      "Epoch 151/200:  CE: 0.1307993930\n",
      "Epoch 152/200:  CE: 0.1307005766\n",
      "Epoch 153/200:  CE: 0.1306028542\n",
      "Epoch 154/200:  CE: 0.1305062073\n",
      "Epoch 155/200:  CE: 0.1304106182\n",
      "Epoch 156/200:  CE: 0.1303160693\n",
      "Epoch 157/200:  CE: 0.1302225434\n",
      "Epoch 158/200:  CE: 0.1301300239\n",
      "Epoch 159/200:  CE: 0.1300384944\n",
      "Epoch 160/200:  CE: 0.1299479390\n",
      "Epoch 161/200:  CE: 0.1298583420\n",
      "Epoch 162/200:  CE: 0.1297696882\n",
      "Epoch 163/200:  CE: 0.1296819626\n",
      "Epoch 164/200:  CE: 0.1295951507\n",
      "Epoch 165/200:  CE: 0.1295092381\n",
      "Epoch 166/200:  CE: 0.1294242110\n",
      "Epoch 167/200:  CE: 0.1293400555\n",
      "Epoch 168/200:  CE: 0.1292567584\n",
      "Epoch 169/200:  CE: 0.1291743065\n",
      "Epoch 170/200:  CE: 0.1290926871\n",
      "Epoch 171/200:  CE: 0.1290118875\n",
      "Epoch 172/200:  CE: 0.1289318955\n",
      "Epoch 173/200:  CE: 0.1288526991\n",
      "Epoch 174/200:  CE: 0.1287742864\n",
      "Epoch 175/200:  CE: 0.1286966459\n",
      "Epoch 176/200:  CE: 0.1286197664\n",
      "Epoch 177/200:  CE: 0.1285436367\n",
      "Epoch 178/200:  CE: 0.1284682460\n",
      "Epoch 179/200:  CE: 0.1283935837\n",
      "Epoch 180/200:  CE: 0.1283196393\n",
      "Epoch 181/200:  CE: 0.1282464025\n",
      "Epoch 182/200:  CE: 0.1281738635\n",
      "Epoch 183/200:  CE: 0.1281020123\n",
      "Epoch 184/200:  CE: 0.1280308393\n",
      "Epoch 185/200:  CE: 0.1279603352\n",
      "Epoch 186/200:  CE: 0.1278904905\n",
      "Epoch 187/200:  CE: 0.1278212963\n",
      "Epoch 188/200:  CE: 0.1277527436\n",
      "Epoch 189/200:  CE: 0.1276848237\n",
      "Epoch 190/200:  CE: 0.1276175280\n",
      "Epoch 191/200:  CE: 0.1275508480\n",
      "Epoch 192/200:  CE: 0.1274847756\n",
      "Epoch 193/200:  CE: 0.1274193026\n",
      "Epoch 194/200:  CE: 0.1273544210\n",
      "Epoch 195/200:  CE: 0.1272901230\n",
      "Epoch 196/200:  CE: 0.1272264010\n",
      "Epoch 197/200:  CE: 0.1271632474\n",
      "Epoch 198/200:  CE: 0.1271006548\n",
      "Epoch 199/200:  CE: 0.1270386160\n",
      "Epoch 200/200:  CE: 0.1269771238\n",
      "theta_final [ 2.67006592 -4.5414849   1.03615491]\n",
      "Resulting cost: 0.1269771237590549\n"
     ]
    }
   ],
   "source": [
    "X = np.insert(X, 0, 1, axis=1)  # include intercept\n",
    "print(X.shape)\n",
    "theta = np.zeros(X.shape[1])\n",
    "learning_rate = 1\n",
    "iterations = 200\n",
    "\n",
    "theta_final, cost_history, theta_history = gradientDescent(\n",
    "    X, y, theta, learning_rate, iterations, True)\n",
    "print(\"theta_final\", theta_final)\n",
    "print(\"Resulting cost:\", cost_history[-1])"
   ]
  },
  {
   "cell_type": "code",
   "execution_count": 112,
   "metadata": {},
   "outputs": [
    {
     "data": {
      "image/png": "[encoded data removed]",
      "text/plain": [
       "<Figure size 640x480 with 1 Axes>"
      ]
     },
     "metadata": {},
     "output_type": "display_data"
    }
   ],
   "source": [
    "plt.plot(cost_history,color='red')\n",
    "plt.xlabel(\"Iterations\")\n",
    "plt.ylabel(\"$J(\\Theta)$\")\n",
    "# plt.legend()\n",
    "plt.title(\"Values of Cost Function over iterations of Gradient Descent\");"
   ]
  },
  {
   "cell_type": "code",
   "execution_count": 113,
   "metadata": {},
   "outputs": [
    {
     "name": "stdout",
     "output_type": "stream",
     "text": [
      "[-1.80173745  3.10874312]\n",
      "[-10.47394481  11.04877649]\n"
     ]
    },
    {
     "data": {
      "image/png": "[encoded data removed]",
      "text/plain": [
       "<Figure size 600x600 with 1 Axes>"
      ]
     },
     "metadata": {},
     "output_type": "display_data"
    }
   ],
   "source": [
    "x_boundary = np.array([np.min(X[:, 1]), np.max(X[:, 1])])\n",
    "y_boundary = -(theta_final[0] + theta_final[1] * x_boundary) / theta_final[2]\n",
    "\n",
    "print(x_boundary)\n",
    "print(y_boundary)\n",
    "\n",
    "plt.figure(figsize=(6, 6))\n",
    "plt.scatter(x_class_A[:,0],x_class_A[:,1], color='red', label='0')\n",
    "plt.scatter(x_class_B[:,0], x_class_B[:,1], color='b', label='1')\n",
    "plt.plot(x_boundary,y_boundary, 'g')\n",
    "plt.xlabel('X')\n",
    "plt.ylabel('Y')\n",
    "ax = plt.gca()\n",
    "ax.set_xlim(min([x_class_A[:,0].min(),x_class_B[:,0].min()]),max([x_class_A[:,0].max(),x_class_B[:,0].max()]) )\n",
    "ax.set_ylim(min([x_class_A[:,1].min(),x_class_B[:,1].min()]),max([x_class_A[:,1].max(),x_class_B[:,1].max()]))\n",
    "plt.title('Display data')\n",
    "plt.legend()\n",
    "plt.show()"
   ]
  },
  {
   "cell_type": "markdown",
   "metadata": {},
   "source": [
    "#### 1.อธิบายข้อจำกัดของ logistic regression \n",
    "\n",
    "Logistic regression เป็นอัลกอริทึมในการแก้ปัญหาคลาสิฟิเคชัน (classification) ที่ใช้สมการเชิงเส้นเพื่อทำนายความน่าจะเป็นของผลลัพธ์ที่อยู่ในรูปของสองคลาส\n",
    "\n",
    "แต่เมื่อข้อมูลไม่มีความสัมพันธ์เชิงเส้นเช่น ข้อมูลที่เป็นวงกลมหรือเส้นโค้งอาจทำให้มีปัญหาในการทำนายค่าความน่าจะเป็น\n",
    "\n",
    "ปัญหา Overfitting เมื่อมีข้อมูลตัวอย่างของคลาสที่ไม่สมดุลกันแบบจำลอง อาจเรียนรู้และทำนายผลลัพธ์ได้ไม่ถูกต้อง เช่น เมื่อมีคลาสหนึ่งมีจำนวนตัวอย่างมากมายกว่าอีกคลาสหนึ่ง อาจทำให้โมเดลมีแนวโน้มที่จะทำนายคลาสที่มากกว่าแม้ว่าข้อมูลจริง ๆ แล้วควรที่จะทำนายคลาสอื่น"
   ]
  },
  {
   "cell_type": "markdown",
   "metadata": {},
   "source": [
    "#### 2.แนวทางในการปรับปรุงประสิทธิภาพ\n",
    "\n",
    "- แก้ไขตัวแปรให้เหมาะสมและมีความหมายมากยิ่งขึ้น โดยการเลือกและสร้างตัวแปรใหม่ที่สามารถช่วยให้โมเดลมีความสามารถในการทำนายมากขึ้น\n",
    "\n",
    "- การใช้เทคนิค regularization เพื่อลดความเสี่ยงในการเกิดโอเวอร์ฟิตติ้ง"
   ]
  }
 ],
 "metadata": {
  "kernelspec": {
   "display_name": "Python 3",
   "language": "python",
   "name": "python3"
  },
  "language_info": {
   "codemirror_mode": {
    "name": "ipython",
    "version": 3
   },
   "file_extension": ".py",
   "mimetype": "text/x-python",
   "name": "python",
   "nbconvert_exporter": "python",
   "pygments_lexer": "ipython3",
   "version": "3.10.11"
  },
  "orig_nbformat": 4
 },
 "nbformat": 4,
 "nbformat_minor": 2
}
