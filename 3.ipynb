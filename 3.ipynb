{
 "cells": [
  {
   "cell_type": "markdown",
   "metadata": {},
   "source": [
    "# logistic regression\n",
    "3. ใช้ logistic regression แก้ปัญหา handwritten digit recognition จากชุดข้อมูล MNIST โดยทำ 2 แบบจำลอง คือ binary classification และ multi-class classification โดย binary classification ให้เลือกข้อมูลออกมาสอง class เช่น classify รูปเลข 0 และ 1 เป็นต้น ขณะที่ multi-class classification ให้ classify เลข 0-9 ออกจากกันให้ได้ ทั้งสองแบบจำลองให้นำ weight มา plot เป็นรูปเพื่อแสดงความเข้าใจการทำงานของ weight ด้วย"
   ]
  },
  {
   "cell_type": "code",
   "execution_count": 313,
   "metadata": {},
   "outputs": [],
   "source": [
    "from tensorflow.keras.datasets import mnist\n",
    "import numpy as np\n",
    "import matplotlib.pyplot as plt"
   ]
  },
  {
   "cell_type": "markdown",
   "metadata": {},
   "source": [
    "Sigmoid function\n",
    "$$ g(z) = \\frac{1}{1 + e^{-z}} $$\n"
   ]
  },
  {
   "cell_type": "code",
   "execution_count": 314,
   "metadata": {},
   "outputs": [
    {
     "data": {
      "text/plain": [
       "0.5"
      ]
     },
     "execution_count": 314,
     "metadata": {},
     "output_type": "execute_result"
    }
   ],
   "source": [
    "def sigmoid(z):\n",
    "    return 1 / (1 + np.exp(-z))\n",
    "\n",
    "\n",
    "# test function\n",
    "sigmoid(0)"
   ]
  },
  {
   "cell_type": "markdown",
   "metadata": {},
   "source": [
    "สมมติฐาน (Hypothesis)\n",
    "$$ h_θ(x) = g(θ_0x_0 + θ_1x_1 + θ_2x_2) $$\n"
   ]
  },
  {
   "cell_type": "code",
   "execution_count": 315,
   "metadata": {},
   "outputs": [
    {
     "data": {
      "text/plain": [
       "array([0.5, 0.5, 0.5, 0.5])"
      ]
     },
     "execution_count": 315,
     "metadata": {},
     "output_type": "execute_result"
    }
   ],
   "source": [
    "def hypothesis(w, X):\n",
    "    H = sigmoid(np.dot(X, w))\n",
    "    return H\n",
    "\n",
    "\n",
    "# test function\n",
    "hypothesis(np.array([0, 0, 0]), np.array(\n",
    "    [[1, 0, 0], [1, 0, 1], [1, 1, 0], [1, 1, 1]]))"
   ]
  },
  {
   "cell_type": "markdown",
   "metadata": {},
   "source": [
    "Cost function\n",
    "$$ J(θ) = \\frac{1}{m} [−y^Tlog(h_θ(x)) − (1 − y)^Tlog(1 − h_θ(x))] $$\n"
   ]
  },
  {
   "cell_type": "code",
   "execution_count": 316,
   "metadata": {},
   "outputs": [
    {
     "data": {
      "text/plain": [
       "0.6931471805599453"
      ]
     },
     "execution_count": 316,
     "metadata": {},
     "output_type": "execute_result"
    }
   ],
   "source": [
    "def Cost(H, Y):\n",
    "    cost = -np.sum(Y*np.log(H) + (1-Y)*np.log(1-H))/len(Y)\n",
    "    return cost\n",
    "\n",
    "\n",
    "# test function\n",
    "Cost(np.array([0.5, 0.5, 0.5, 0.5]), np.array([0, 0, 0, 1]))"
   ]
  },
  {
   "cell_type": "markdown",
   "metadata": {},
   "source": [
    "Gradient\n",
    "$$ \\frac{∂}{∂θ*j}J(θ) = \\frac{1}{m}X^T(h*θ(x) − y) $$\n",
    "\n",
    "Gradient descent\n",
    "$$ θ*j ≔ θ_j-\\frac{a}{m}X^T(h*θ(x) − y) $$\n"
   ]
  },
  {
   "cell_type": "code",
   "execution_count": 317,
   "metadata": {},
   "outputs": [
    {
     "name": "stdout",
     "output_type": "stream",
     "text": [
      "Epoch 1/1:  CE: 0.6931471806\n"
     ]
    },
    {
     "data": {
      "text/plain": [
       "(array([-0.25,  0.  ,  0.  ]),\n",
       " [0.6931471805599453],\n",
       " array([[-0.25,  0.  ,  0.  ]]))"
      ]
     },
     "execution_count": 317,
     "metadata": {},
     "output_type": "execute_result"
    }
   ],
   "source": [
    "def gradientDescent(x, y, theta, learning_rate, iterations, show):\n",
    "    cost_history = []\n",
    "    theta_n = np.copy(theta)\n",
    "    theta_history = []\n",
    "    for epoch in range(iterations):\n",
    "        H = hypothesis(theta_n, x)\n",
    "        cost = Cost(H, y)\n",
    "        gradient = np.dot(x.T, (H-y))/len(y)\n",
    "        theta_n -= learning_rate * gradient\n",
    "        theta_history.append(list(theta_n))\n",
    "        cost_history.append(cost)\n",
    "        if show:\n",
    "            print(f\"Epoch {epoch+1}/{iterations}:  CE: {cost:.10f}\")\n",
    "\n",
    "    return theta_n, cost_history, np.array(theta_history)\n",
    "\n",
    "\n",
    "# test function\n",
    "gradientDescent(\n",
    "    np.array([[1, 0, 0], [1, 0, 1], [1, 1, 0], [1, 1, 1]]),\n",
    "    np.array([0, 0, 0, 1]),\n",
    "    np.array([0, 0, 0], dtype='float64'), 1, 1, True)"
   ]
  },
  {
   "cell_type": "markdown",
   "metadata": {},
   "source": [
    "โหลดชุดข้อมูล"
   ]
  },
  {
   "cell_type": "code",
   "execution_count": 331,
   "metadata": {},
   "outputs": [],
   "source": [
    "(trainX, trainy), (_, _) = mnist.load_data()"
   ]
  },
  {
   "cell_type": "code",
   "execution_count": 377,
   "metadata": {},
   "outputs": [
    {
     "data": {
      "image/png": "[encoded data removed]",
      "text/plain": [
       "<Figure size 1000x300 with 5 Axes>"
      ]
     },
     "metadata": {},
     "output_type": "display_data"
    }
   ],
   "source": [
    "n = 5\n",
    "fig, axs = plt.subplots(1, n, figsize=(10, 3))\n",
    "for ax, x,y in zip(axs, trainX[:n], trainy[:n]):\n",
    "    ax.imshow(x)\n",
    "    ax.set_title(y)\n",
    "    ax.grid(True)\n",
    "plt.show()"
   ]
  },
  {
   "cell_type": "markdown",
   "metadata": {},
   "source": [
    "เตรียมข้อมูล\n",
    "* เลือกข้อมูลในแต่ละ class มาอย่างละ 100 ตัวอย่าง\n",
    "* แปลง 28*28 ให้เป็นเวคเตอร์ 784 \n",
    "* เพิ่ม w0 เท่ากับ 1 ในทุกข้อมูลตัวอย่าง"
   ]
  },
  {
   "cell_type": "code",
   "execution_count": 382,
   "metadata": {},
   "outputs": [
    {
     "name": "stdout",
     "output_type": "stream",
     "text": [
      "D0: (100, 785)\n",
      "D1: (100, 785)\n",
      "D2: (100, 785)\n",
      "D3: (100, 785)\n",
      "D4: (100, 785)\n",
      "D5: (100, 785)\n",
      "D6: (100, 785)\n",
      "D7: (100, 785)\n",
      "D8: (100, 785)\n",
      "D9: (100, 785)\n"
     ]
    },
    {
     "data": {
      "text/plain": [
       "[None, None, None, None, None, None, None, None, None, None]"
      ]
     },
     "execution_count": 382,
     "metadata": {},
     "output_type": "execute_result"
    }
   ],
   "source": [
    "n = 100\n",
    "D0,D1,D2,D3,D4,D5,D6,D7,D8,D9 = [],[],[],[],[],[],[],[],[],[]\n",
    "\n",
    "for x, y in zip(trainX, trainy):\n",
    "    if y == 0:\n",
    "        if len(D0) < n:\n",
    "            D0.append((x.reshape(28*28, 1) / 255))\n",
    "    elif y == 1:\n",
    "        if len(D1) < n:\n",
    "            D1.append(x.reshape(28*28, 1) / 255)\n",
    "    elif y == 2:\n",
    "        if len(D2) < n:\n",
    "            D2.append(x.reshape(28*28, 1) / 255)\n",
    "    elif y == 3:\n",
    "        if len(D3) < n:\n",
    "            D3.append(x.reshape(28*28, 1) / 255)\n",
    "    elif y == 4:\n",
    "        if len(D4) < n:\n",
    "            D4.append(x.reshape(28*28, 1) / 255)\n",
    "    elif y == 5:\n",
    "        if len(D5) < n:\n",
    "            D5.append(x.reshape(28*28, 1) / 255)\n",
    "    elif y == 6:\n",
    "        if len(D6) < n:\n",
    "            D6.append(x.reshape(28*28, 1) / 255)\n",
    "    elif y == 7:\n",
    "        if len(D7) < n:\n",
    "            D7.append(x.reshape(28*28, 1) / 255)\n",
    "    elif y == 8:\n",
    "        if len(D8) < n:\n",
    "            D8.append(x.reshape(28*28, 1) / 255)\n",
    "    elif y == 9:\n",
    "        if len(D9) < n:\n",
    "            D9.append(x.reshape(28*28, 1) / 255)\n",
    "\n",
    "    if (\n",
    "        len(D0) == n and\n",
    "        len(D1) == n and\n",
    "        len(D2) == n and\n",
    "        len(D3) == n and\n",
    "        len(D4) == n and\n",
    "        len(D5) == n and\n",
    "        len(D6) == n and\n",
    "        len(D7) == n and\n",
    "        len(D8) == n and\n",
    "        len(D9) == n\n",
    "    ):\n",
    "        break\n",
    "D0 = np.insert(np.array(D0).reshape(n, 784), 0, 1, axis=1)\n",
    "D1 = np.insert(np.array(D1).reshape(n, 784), 0, 1, axis=1)\n",
    "D2 = np.insert(np.array(D2).reshape(n, 784), 0, 1, axis=1)\n",
    "D3 = np.insert(np.array(D3).reshape(n, 784), 0, 1, axis=1)\n",
    "D4 = np.insert(np.array(D4).reshape(n, 784), 0, 1, axis=1)\n",
    "D5 = np.insert(np.array(D5).reshape(n, 784), 0, 1, axis=1)\n",
    "D6 = np.insert(np.array(D6).reshape(n, 784), 0, 1, axis=1)\n",
    "D7 = np.insert(np.array(D7).reshape(n, 784), 0, 1, axis=1)\n",
    "D8 = np.insert(np.array(D8).reshape(n, 784), 0, 1, axis=1)\n",
    "D9 = np.insert(np.array(D9).reshape(n, 784), 0, 1, axis=1)\n",
    "\n",
    "D_list = [D0, D1, D2, D3, D4, D5, D6, D7, D8, D9]\n",
    "[print(f\"D{i}: {j.shape}\") for i, j in enumerate(D_list)]"
   ]
  },
  {
   "cell_type": "code",
   "execution_count": 383,
   "metadata": {},
   "outputs": [
    {
     "data": {
      "text/plain": [
       "<matplotlib.image.AxesImage at 0x2068d574eb0>"
      ]
     },
     "execution_count": 383,
     "metadata": {},
     "output_type": "execute_result"
    },
    {
     "data": {
      "image/png": "[encoded data removed]",
      "text/plain": [
       "<Figure size 640x480 with 1 Axes>"
      ]
     },
     "metadata": {},
     "output_type": "display_data"
    }
   ],
   "source": [
    "a = D_list[9][0][1::].reshape(28*28)\n",
    "a = a.reshape(28,28)\n",
    "plt.imshow(a)"
   ]
  },
  {
   "cell_type": "code",
   "execution_count": 320,
   "metadata": {},
   "outputs": [],
   "source": [
    "del D0, D1, D2, D3, D4, D5, D6, D7, D8, D9, trainX, trainy"
   ]
  },
  {
   "cell_type": "markdown",
   "metadata": {},
   "source": [
    "## binary classification"
   ]
  },
  {
   "cell_type": "code",
   "execution_count": 321,
   "metadata": {},
   "outputs": [
    {
     "name": "stdout",
     "output_type": "stream",
     "text": [
      "[0 1 0 1 0 1 0 1 0 1 0 1 0 1 0 1 0 1 0 1 0 1 0 1 0 1 0 1 0 1 0 1 0 1 0 1 0\n",
      " 1 0 1 0 1 0 1 0 1 0 1 0 1 0 1 0 1 0 1 0 1 0 1 0 1 0 1 0 1 0 1 0 1 0 1 0 1\n",
      " 0 1 0 1 0 1 0 1 0 1 0 1 0 1 0 1 0 1 0 1 0 1 0 1 0 1 0 1 0 1 0 1 0 1 0 1 0\n",
      " 1 0 1 0 1 0 1 0 1 0 1 0 1 0 1 0 1 0 1 0 1 0 1 0 1 0 1 0 1 0 1 0 1 0 1 0 1\n",
      " 0 1 0 1 0 1 0 1 0 1 0 1 0 1 0 1 0 1 0 1 0 1 0 1 0 1 0 1 0 1 0 1 0 1 0 1 0\n",
      " 1 0 1 0 1 0 1 0 1 0 1 0 1 0 1]\n",
      "(200, 785)\n",
      "Epoch 1/20:  CE: 0.6931471806\n",
      "Epoch 2/20:  CE: 0.5396482595\n",
      "Epoch 3/20:  CE: 0.4481830594\n",
      "Epoch 4/20:  CE: 0.3835303451\n",
      "Epoch 5/20:  CE: 0.3347749413\n",
      "Epoch 6/20:  CE: 0.2967712411\n",
      "Epoch 7/20:  CE: 0.2664369638\n",
      "Epoch 8/20:  CE: 0.2417439157\n",
      "Epoch 9/20:  CE: 0.2212991911\n",
      "Epoch 10/20:  CE: 0.2041195497\n",
      "Epoch 11/20:  CE: 0.1894952292\n",
      "Epoch 12/20:  CE: 0.1769035548\n",
      "Epoch 13/20:  CE: 0.1659525500\n",
      "Epoch 14/20:  CE: 0.1563433134\n",
      "Epoch 15/20:  CE: 0.1478444182\n",
      "Epoch 16/20:  CE: 0.1402741724\n",
      "Epoch 17/20:  CE: 0.1334881095\n",
      "Epoch 18/20:  CE: 0.1273700238\n",
      "Epoch 19/20:  CE: 0.1218254479\n",
      "Epoch 20/20:  CE: 0.1167768381\n"
     ]
    }
   ],
   "source": [
    "learning_rate = 0.05\n",
    "iterations = 20\n",
    "Y_binary = []\n",
    "X_binary = []\n",
    "for d0, d1 in zip(D_list[0], D_list[1]):\n",
    "    X_binary.append(d0)\n",
    "    Y_binary.append(0)\n",
    "    X_binary.append(d1)\n",
    "    Y_binary.append(1)\n",
    "\n",
    "Y_binary = np.array(Y_binary)\n",
    "X_binary = np.array(X_binary)\n",
    "print(Y_binary)\n",
    "print(X_binary.shape)\n",
    "theta_binary = np.zeros(D_list[0].shape[1])\n",
    "\n",
    "theta_binary_final, cost_binary_history, theta_binary_history = gradientDescent(\n",
    "    X_binary, Y_binary, theta_binary, learning_rate, iterations, True)"
   ]
  },
  {
   "cell_type": "code",
   "execution_count": 322,
   "metadata": {},
   "outputs": [
    {
     "data": {
      "text/plain": [
       "Text(0.5, 1.0, 'Values of Cost Function over iterations of Gradient Descent')"
      ]
     },
     "execution_count": 322,
     "metadata": {},
     "output_type": "execute_result"
    },
    {
     "data": {
      "image/png": "[encoded data removed]",
      "text/plain": [
       "<Figure size 640x480 with 1 Axes>"
      ]
     },
     "metadata": {},
     "output_type": "display_data"
    }
   ],
   "source": [
    "plt.plot(cost_binary_history, color='red', label='AND')\n",
    "plt.xlabel(\"Iterations\")\n",
    "plt.ylabel(\"$J(\\Theta)$\")\n",
    "plt.legend()\n",
    "plt.title(\"Values of Cost Function over iterations of Gradient Descent\")"
   ]
  },
  {
   "cell_type": "code",
   "execution_count": 323,
   "metadata": {},
   "outputs": [],
   "source": [
    "# plt.plot(theta_binary_final, color='red', label='binary')\n",
    "# plt.xlabel(\"Iterations\")\n",
    "# plt.ylabel(\"$J(\\Theta)$\")\n",
    "# plt.legend()\n",
    "# plt.title(\"Values of Cost Function over iterations of Gradient Descent\")"
   ]
  },
  {
   "cell_type": "code",
   "execution_count": 333,
   "metadata": {},
   "outputs": [
    {
     "data": {
      "text/plain": [
       "array([0.90962503, 0.87202045, 0.82658883, 0.85315645, 0.90648289,\n",
       "       0.61773151, 0.90319481, 0.90171665, 0.91967603, 0.75660996,\n",
       "       0.86330852, 0.92050633, 0.93264848, 0.88371297, 0.85275676,\n",
       "       0.76668228, 0.93224674, 0.88910147, 0.93349766, 0.84304908,\n",
       "       0.93272761, 0.59257696, 0.89368047, 0.88550739, 0.93805331,\n",
       "       0.86505317, 0.84743621, 0.90093296, 0.90947011, 0.93486067,\n",
       "       0.93625627, 0.4936448 , 0.92756562, 0.84259791, 0.94169437,\n",
       "       0.91754795, 0.80283977, 0.87290965, 0.91783532, 0.90141735,\n",
       "       0.87564259, 0.93360474, 0.92615472, 0.92396759, 0.93028808,\n",
       "       0.94548817, 0.81778237, 0.85568184, 0.89939525, 0.77487749,\n",
       "       0.91548169, 0.83035488, 0.81529918, 0.88459721, 0.94870281,\n",
       "       0.90448927, 0.90794633, 0.89331142, 0.84948868, 0.92653303,\n",
       "       0.86040576, 0.66475121, 0.88306862, 0.82887297, 0.787852  ,\n",
       "       0.92415863, 0.90170723, 0.89535348, 0.87439329, 0.77532766,\n",
       "       0.80914087, 0.88083556, 0.82891296, 0.88641686, 0.92514634,\n",
       "       0.90695845, 0.91605507, 0.84926053, 0.90547677, 0.80910234,\n",
       "       0.91965483, 0.82328817, 0.82595172, 0.84899954, 0.89280944,\n",
       "       0.94488618, 0.87633473, 0.89053782, 0.93706498, 0.92471055,\n",
       "       0.8676703 , 0.92195166, 0.75350795, 0.9061565 , 0.93425694,\n",
       "       0.91258648, 0.8892824 , 0.9127875 , 0.91593966, 0.90748309])"
      ]
     },
     "execution_count": 333,
     "metadata": {},
     "output_type": "execute_result"
    }
   ],
   "source": [
    "hypothesis(theta_binary_final, D_list[1])"
   ]
  },
  {
   "cell_type": "markdown",
   "metadata": {},
   "source": [
    "## multi-class classification"
   ]
  },
  {
   "cell_type": "code",
   "execution_count": 325,
   "metadata": {},
   "outputs": [
    {
     "name": "stdout",
     "output_type": "stream",
     "text": [
      "xd- 0 (190, 785) (190,)\n",
      "xd- 1 (190, 785) (190,)\n",
      "xd- 2 (190, 785) (190,)\n",
      "xd- 3 (190, 785) (190,)\n",
      "xd- 4 (190, 785) (190,)\n",
      "xd- 5 (190, 785) (190,)\n",
      "xd- 6 (190, 785) (190,)\n",
      "xd- 7 (190, 785) (190,)\n",
      "xd- 8 (190, 785) (190,)\n",
      "xd- 9 (190, 785) (190,)\n"
     ]
    }
   ],
   "source": [
    "theta_list = [np.zeros(i.shape[1]) for i in D_list]\n",
    "\n",
    "XD = []\n",
    "YD = []\n",
    "for i in range(10):\n",
    "    D_list_2 = D_list.copy()\n",
    "    xd_i = D_list_2.pop(i)\n",
    "    YD_i = np.ones(D_list[i].shape[0])\n",
    "    for j in D_list_2:\n",
    "        xd_i = np.vstack((xd_i, j[:10]))\n",
    "        YD_i = np.concatenate((YD_i, np.zeros(j[:10].shape[0])))\n",
    "    XD.append(xd_i)\n",
    "    YD.append(YD_i)\n",
    "    print(\"xd-\", i, xd_i.shape, YD_i.shape)"
   ]
  },
  {
   "cell_type": "code",
   "execution_count": 326,
   "metadata": {},
   "outputs": [
    {
     "name": "stdout",
     "output_type": "stream",
     "text": [
      "XD-0 const:0.0177085511\n",
      "XD-1 const:0.0374454818\n",
      "XD-2 const:0.0508379940\n",
      "XD-3 const:0.0626160887\n",
      "XD-4 const:0.0316584484\n",
      "XD-5 const:0.1041399393\n",
      "XD-6 const:0.0283098279\n",
      "XD-7 const:0.0411553454\n",
      "XD-8 const:0.0920569019\n",
      "XD-9 const:0.1012012066\n"
     ]
    }
   ],
   "source": [
    "learning_rate = 0.5\n",
    "iterations = 100\n",
    "theta_final_list = []\n",
    "cost_history_list = []\n",
    "for i, (XD_I, YD_I, theta_I) in enumerate(zip(XD, YD, theta_list)):\n",
    "    theta_I_final, cost_I_history, _ = gradientDescent(\n",
    "        XD_I, YD_I, theta_I, learning_rate, iterations, False)\n",
    "    theta_final_list.append(theta_I_final)\n",
    "    cost_history_list.append(cost_I_history)\n",
    "    print(f\"XD-{i} const:{cost_I_history[-1]:.10f}\")"
   ]
  },
  {
   "cell_type": "code",
   "execution_count": 327,
   "metadata": {},
   "outputs": [
    {
     "data": {
      "text/plain": [
       "Text(0.5, 1.0, 'Values of Cost Function over iterations of Gradient Descent')"
      ]
     },
     "execution_count": 327,
     "metadata": {},
     "output_type": "execute_result"
    },
    {
     "data": {
      "image/png": "[encoded data removed]",
      "text/plain": [
       "<Figure size 640x480 with 1 Axes>"
      ]
     },
     "metadata": {},
     "output_type": "display_data"
    }
   ],
   "source": [
    "color = plt.cm.rainbow(np.linspace(0, 1, 10))\n",
    "for i, (cost, c) in enumerate(zip(cost_history_list, color)):\n",
    "    plt.plot(cost, color=c, label=f'D-{i}')\n",
    "\n",
    "plt.xlabel(\"Iterations\")\n",
    "plt.ylabel(\"CE\")\n",
    "plt.legend()\n",
    "plt.title(\"Values of Cost Function over iterations of Gradient Descent\")"
   ]
  },
  {
   "cell_type": "code",
   "execution_count": 328,
   "metadata": {},
   "outputs": [],
   "source": [
    "# for i, (theta, c) in enumerate(zip(theta_final_list, color)):\n",
    "#     plt.plot(theta, color=c, label=f'D-{i}')\n",
    "# plt.xlabel(\"Iterations\")\n",
    "# plt.ylabel(\"$J(\\Theta)$\")\n",
    "# plt.legend()\n",
    "# plt.title(\"Values of Cost Function over iterations of Gradient Descent\")"
   ]
  },
  {
   "cell_type": "code",
   "execution_count": 329,
   "metadata": {},
   "outputs": [],
   "source": [
    "def multi_Class(theta_final_list, X):\n",
    "    out = []\n",
    "    for theta in theta_final_list:\n",
    "        out.append(hypothesis(theta, X))\n",
    "    return out"
   ]
  },
  {
   "cell_type": "code",
   "execution_count": 330,
   "metadata": {},
   "outputs": [
    {
     "data": {
      "text/plain": [
       "array([0, 0, 0, 0, 0, 0, 0, 0, 0, 0, 0, 0, 0, 0, 0, 0, 0, 0, 0, 0, 0, 0,\n",
       "       0, 0, 0, 0, 6, 0, 8, 0, 0, 0, 0, 0, 0, 0, 0, 0, 0, 0, 0, 0, 0, 0,\n",
       "       0, 0, 0, 2, 0, 5, 0, 0, 0, 0, 0, 0, 0, 0, 0, 0, 0, 0, 0, 0, 0, 0,\n",
       "       0, 0, 0, 0, 0, 0, 0, 0, 0, 0, 0, 0, 5, 0, 0, 0, 0, 0, 0, 0, 5, 5,\n",
       "       0, 0, 0, 0, 0, 0, 0, 0, 0, 0, 0, 0], dtype=int64)"
      ]
     },
     "execution_count": 330,
     "metadata": {},
     "output_type": "execute_result"
    }
   ],
   "source": [
    "out = multi_Class(theta_final_list,D_list[0])\n",
    "out = np.array(out)\n",
    "np.argmax(out.T,axis=1)\n"
   ]
  }
 ],
 "metadata": {
  "kernelspec": {
   "display_name": "Python 3",
   "language": "python",
   "name": "python3"
  },
  "language_info": {
   "codemirror_mode": {
    "name": "ipython",
    "version": 3
   },
   "file_extension": ".py",
   "mimetype": "text/x-python",
   "name": "python",
   "nbconvert_exporter": "python",
   "pygments_lexer": "ipython3",
   "version": "3.10.11"
  },
  "orig_nbformat": 4
 },
 "nbformat": 4,
 "nbformat_minor": 2
}
